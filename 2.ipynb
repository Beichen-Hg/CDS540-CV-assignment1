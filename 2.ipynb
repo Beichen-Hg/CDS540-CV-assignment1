{
 "cells": [
  {
   "cell_type": "code",
   "execution_count": 24,
   "metadata": {},
   "outputs": [],
   "source": [
    "import cv2\n",
    "import pytesseract\n",
    "import time\n",
    "\n",
    "image = cv2.imread('blurred_image.jpg')\n",
    "image1 = cv2.imread('pic1.png')"
   ]
  },
  {
   "cell_type": "code",
   "execution_count": 15,
   "metadata": {},
   "outputs": [],
   "source": [
    "# 灰度处理\n",
    "gray_image_blur = cv2.cvtColor(image, cv2.COLOR_BGR2GRAY)\n",
    "cv2.imshow('gray_image',gray_image_blur)\n",
    "cv2.waitKey(0)  \n",
    "cv2.destroyAllWindows()"
   ]
  },
  {
   "cell_type": "code",
   "execution_count": 9,
   "metadata": {},
   "outputs": [],
   "source": [
    "# 灰度处理\n",
    "gray_image = cv2.cvtColor(image1, cv2.COLOR_BGR2GRAY)\n",
    "cv2.imshow('gray_image',gray_image)\n",
    "cv2.waitKey(0)  \n",
    "cv2.destroyAllWindows()"
   ]
  },
  {
   "cell_type": "code",
   "execution_count": 23,
   "metadata": {},
   "outputs": [
    {
     "name": "stdout",
     "output_type": "stream",
     "text": [
      "What is Amazon Rekognition?\n",
      "\n",
      "¥ An artificial intelligence (Al) service that\n",
      "makes it easy to add powerful visual\n",
      "analysis to your applications.\n",
      "\n",
      "Y Quickly add pre-trained or customizable\n",
      "computer vision APIs to your applications\n",
      "without building machine learning (ML)\n",
      "models and infrastructure from scratch.\n",
      "\n",
      "¥ Analyze millions of images, streaming,\n",
      "and stored videos within seconds, and\n",
      "augment human review tasks with Al.\n",
      "\n",
      "¥ Scale up and down based on your\n",
      "business needs with fully managed Al\n",
      "capabilities and pay only for the images and\n",
      "videos you analyze.\n",
      "\n",
      "Get started with Amazon Rekogntin\n",
      "\n",
      "‘Amazon Rekognition\n",
      "\n",
      "What is Amazon Rekognition? (1:42)\n",
      "\n"
     ]
    }
   ],
   "source": [
    "#original image\n",
    "text = pytesseract.image_to_string(gray_image)\n",
    "print(text)"
   ]
  },
  {
   "cell_type": "code",
   "execution_count": 3,
   "metadata": {},
   "outputs": [
    {
     "name": "stdout",
     "output_type": "stream",
     "text": [
      "What is Amazon Rekognition?\n",
      "\n",
      "\n"
     ]
    }
   ],
   "source": [
    "#blur image\n",
    "text = pytesseract.image_to_string(gray_image_blur)\n",
    "print(text)"
   ]
  },
  {
   "cell_type": "code",
   "execution_count": 26,
   "metadata": {},
   "outputs": [],
   "source": [
    "#Performance Evaluation - Measure speed\n",
    "start_time = time.time()\n",
    "# Repeat the text detection and extraction process here\n",
    "details = pytesseract.image_to_string(gray_image_blur)\n",
    "end_time = time.time()"
   ]
  },
  {
   "cell_type": "code",
   "execution_count": 16,
   "metadata": {},
   "outputs": [],
   "source": [
    "# 应用直方图均衡化  \n",
    "equalized_image = cv2.equalizeHist(gray_image_blur)  \n",
    "  \n",
    "# 显示结果  \n",
    "cv2.imshow('Equalized Image', equalized_image)  \n",
    "cv2.waitKey(0)  \n",
    "cv2.destroyAllWindows()"
   ]
  },
  {
   "cell_type": "code",
   "execution_count": 25,
   "metadata": {},
   "outputs": [],
   "source": [
    "custom_config = r'--oem 3 --psm 6'"
   ]
  }
 ],
 "metadata": {
  "kernelspec": {
   "display_name": "Python 3",
   "language": "python",
   "name": "python3"
  },
  "language_info": {
   "codemirror_mode": {
    "name": "ipython",
    "version": 3
   },
   "file_extension": ".py",
   "mimetype": "text/x-python",
   "name": "python",
   "nbconvert_exporter": "python",
   "pygments_lexer": "ipython3",
   "version": "3.12.3"
  }
 },
 "nbformat": 4,
 "nbformat_minor": 2
}
