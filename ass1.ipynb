{
 "cells": [
  {
   "cell_type": "code",
   "execution_count": 2,
   "metadata": {},
   "outputs": [],
   "source": [
    "import cv2\n",
    "import pytesseract\n",
    "\n",
    "gray_image = cv2.imread('pic1.png')"
   ]
  },
  {
   "cell_type": "code",
   "execution_count": 3,
   "metadata": {},
   "outputs": [],
   "source": [
    "# 灰度处理\n",
    "gray_image = cv2.cvtColor(gray_image, cv2.COLOR_BGR2GRAY)\n",
    "cv2.imshow('gray_image',gray_image)\n",
    "cv2.waitKey(0)  \n",
    "cv2.destroyAllWindows()"
   ]
  },
  {
   "cell_type": "code",
   "execution_count": 14,
   "metadata": {},
   "outputs": [],
   "source": [
    "# 应用全局阈值处理  \n",
    "threshold_value = 127    \n",
    "_, thresholded_image = cv2.threshold(gray_image, threshold_value, 255, cv2.THRESH_BINARY)  \n",
    "  \n",
    "# 自适应阈值处理  \n",
    "adaptive_thresholded_image = cv2.adaptiveThreshold(gray_image, 255, cv2.ADAPTIVE_THRESH_GAUSSIAN_C, cv2.THRESH_BINARY, 11, 2)  # 11是块大小，2是C值  \n",
    "  \n",
    "# 显示结果  \n",
    "cv2.imshow('Thresholded Image', thresholded_image)  \n",
    "cv2.imshow('Adaptive Thresholded Image', adaptive_thresholded_image)  \n",
    "cv2.waitKey(0)  \n",
    "cv2.destroyAllWindows()"
   ]
  },
  {
   "cell_type": "code",
   "execution_count": 60,
   "metadata": {},
   "outputs": [
    {
     "data": {
      "text/plain": [
       "True"
      ]
     },
     "execution_count": 60,
     "metadata": {},
     "output_type": "execute_result"
    }
   ],
   "source": [
    "# 使用高斯模糊\n",
    "image = cv2.imread('pic1.png')   \n",
    "blurred_image = cv2.GaussianBlur(image, (7, 7), 0)\n",
    "cv2.imshow('blurred_imag',blurred_image)\n",
    "cv2.waitKey(0)  \n",
    "cv2.destroyAllWindows()\n",
    "cv2.imwrite('blurred_image.jpg', blurred_image)\n",
    "\n"
   ]
  },
  {
   "cell_type": "code",
   "execution_count": 15,
   "metadata": {},
   "outputs": [],
   "source": [
    "import cv2  \n",
    "  \n",
    "# 应用形态学操作：腐蚀  \n",
    "kernel = cv2.getStructuringElement(cv2.MORPH_RECT, (5, 5))  # (5, 5)是核的大小  \n",
    "eroded_image = cv2.erode(gray_image, kernel, iterations=1)  \n",
    "  \n",
    "# 应用形态学操作：膨胀  \n",
    "dilated_image = cv2.dilate(gray_image, kernel, iterations=1)  \n",
    "  \n",
    "# 显示结果  \n",
    "cv2.imshow('Eroded Image', eroded_image)  \n",
    "cv2.imshow('Dilated Image', dilated_image)  \n",
    "cv2.waitKey(0)  \n",
    "cv2.destroyAllWindows()"
   ]
  },
  {
   "cell_type": "code",
   "execution_count": 16,
   "metadata": {},
   "outputs": [],
   "source": [
    "# 应用直方图均衡化  \n",
    "equalized_image = cv2.equalizeHist(gray_image)  \n",
    "  \n",
    "# 显示结果  \n",
    "cv2.imshow('Equalized Image', equalized_image)  \n",
    "cv2.waitKey(0)  \n",
    "cv2.destroyAllWindows()"
   ]
  },
  {
   "cell_type": "code",
   "execution_count": 12,
   "metadata": {},
   "outputs": [],
   "source": [
    "# 使用Canny边缘检测  \n",
    "edges = cv2.Canny(gray_image, 10, 150)\n",
    "cv2.imshow('edges',edges)\n",
    "cv2.waitKey(0)  \n",
    "cv2.destroyAllWindows()"
   ]
  },
  {
   "cell_type": "code",
   "execution_count": 51,
   "metadata": {},
   "outputs": [
    {
     "name": "stdout",
     "output_type": "stream",
     "text": [
      "What is Amazon Rekognition?\n",
      "\n",
      "¥ An artificial intelligence (Al) service that\n",
      "makes it easy to add powerful visual\n",
      "analysis to your applications.\n",
      "\n",
      "Y Quickly add pre-trained or customizable\n",
      "computer vision APIs to your applications\n",
      "without building machine learning (ML)\n",
      "models and infrastructure from scratch.\n",
      "\n",
      "¥ Analyze millions of images, streaming,\n",
      "and stored videos within seconds, and\n",
      "augment human review tasks with Al.\n",
      "\n",
      "¥ Scale up and down based on your\n",
      "business needs with fully managed Al\n",
      "capabilities and pay only for the images and\n",
      "videos you analyze.\n",
      "\n",
      "Get started with Amazon Rekogntin\n",
      "\n",
      "‘Amazon Rekognition\n",
      "\n",
      "What is Amazon Rekognition? (1:42)\n",
      "\n"
     ]
    }
   ],
   "source": [
    "text = pytesseract.image_to_string(gray_image)\n",
    "print(text)"
   ]
  },
  {
   "cell_type": "code",
   "execution_count": 23,
   "metadata": {},
   "outputs": [
    {
     "data": {
      "text/plain": [
       "-1"
      ]
     },
     "execution_count": 23,
     "metadata": {},
     "output_type": "execute_result"
    }
   ],
   "source": [
    "h, w = gray_image.shape\n",
    "boxes = pytesseract.image_to_boxes(gray_image)\n",
    "for b in boxes.splitlines():\n",
    "    b = b.split(' ')\n",
    "    gray_image = cv2.rectangle(gray_image, (int(b[1]), h - int(b[2])), (int(b[3]), h - int(b[4])), (0, 255, 0), 2)\n",
    "\n",
    "cv2.imshow('img', gray_image)\n",
    "cv2.waitKey(0)"
   ]
  },
  {
   "cell_type": "code",
   "execution_count": 5,
   "metadata": {},
   "outputs": [],
   "source": [
    "image = cv2.imread('pic1.png')  \n",
    "height, width, _ = image.shape  \n",
    "  \n",
    "# 使用 Tesseract 提取文本数据  \n",
    "# 注意：pytesseract.image_to_data 需要一个 PIL 图像对象，但我们可以使用 OpenCV 加载图像后转换  \n",
    "# 由于 OpenCV 使用 BGR 格式，而 Tesseract 通常期望 RGB，因此我们需要转换颜色空间  \n",
    "image_rgb = cv2.cvtColor(image, cv2.COLOR_BGR2RGB)  \n",
    "data = pytesseract.image_to_data(image_rgb, output_type=pytesseract.Output.DICT)  \n",
    "  \n",
    "# 创建一个副本来绘制边界框  \n",
    "image_with_boxes = image.copy()  \n",
    "  \n",
    "# 遍历提取的数据  \n",
    "n_boxes = len(data['text'])  \n",
    "for i in range(n_boxes):  \n",
    "    # 检查置信度是否大于某个阈值（例如60）  \n",
    "    if int(data['conf'][i]) > 1:  \n",
    "        # 获取坐标（Tesseract的坐标系统）  \n",
    "        x, y, w, h = int(data['left'][i]), int(data['top'][i]), int(data['width'][i]), int(data['height'][i])  \n",
    "          \n",
    "        # 在图像上绘制矩形（OpenCV的坐标系统，不需要调整y坐标）  \n",
    "        # 注意：由于我们是在副本上绘制，所以不会影响原始图像  \n",
    "        cv2.rectangle(image_with_boxes, (x, y), (x + w, y + h), (0, 255, 0), 2)  \n",
    "  \n",
    "# 显示处理后的图像  \n",
    "cv2.imshow('Image with Text Boxes', image_with_boxes)  \n",
    "cv2.waitKey(0)  \n",
    "cv2.destroyAllWindows()"
   ]
  }
 ],
 "metadata": {
  "kernelspec": {
   "display_name": "Python 3",
   "language": "python",
   "name": "python3"
  },
  "language_info": {
   "codemirror_mode": {
    "name": "ipython",
    "version": 3
   },
   "file_extension": ".py",
   "mimetype": "text/x-python",
   "name": "python",
   "nbconvert_exporter": "python",
   "pygments_lexer": "ipython3",
   "version": "3.12.3"
  }
 },
 "nbformat": 4,
 "nbformat_minor": 2
}
